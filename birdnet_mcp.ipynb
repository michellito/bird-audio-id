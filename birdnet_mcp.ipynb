{
 "cells": [
  {
   "cell_type": "code",
   "execution_count": null,
   "id": "23232107-3105-4e91-bcc8-10fbeabd0a25",
   "metadata": {
    "editable": true,
    "slideshow": {
     "slide_type": ""
    },
    "tags": []
   },
   "outputs": [],
   "source": [
    "!pip install -q langchain_openai==0.3.34\n",
    "!pip install -q birdnet==0.1.7 librosa==0.11.0 soundfile==0.13.1\n",
    "!pip install -q fastmcp==2.12.4 mcp_use==1.3.11 asyncio==4.0.0 "
   ]
  },
  {
   "cell_type": "code",
   "execution_count": null,
   "id": "c36fc21f-f4f4-4038-9631-7a2047e964ed",
   "metadata": {},
   "outputs": [],
   "source": [
    "from getpass import getpass\n",
    "\n",
    "api_key = getpass('Enter your API key: ')"
   ]
  },
  {
   "cell_type": "code",
   "execution_count": null,
   "id": "e47e5018-4c8c-4465-8941-4ffad55cca65",
   "metadata": {},
   "outputs": [],
   "source": [
    "!curl -s -L \"https://llm-api.cyverse.ai/v1/models\" \\\n",
    "  -H \"Authorization: Bearer {api_key}\" \\\n",
    "  -H 'Content-Type: application/json' | json_pp"
   ]
  },
  {
   "cell_type": "code",
   "execution_count": null,
   "id": "2ef6d162-15ae-4f0e-8d61-007864a2398c",
   "metadata": {
    "editable": true,
    "slideshow": {
     "slide_type": ""
    },
    "tags": []
   },
   "outputs": [],
   "source": [
    "from langchain_openai import ChatOpenAI\n",
    "\n",
    "llm = ChatOpenAI(\n",
    "    model=\"js2/llama-4-scout\",\n",
    "    api_key=api_key,\n",
    "    base_url=\"https://llm-api.cyverse.ai/v1\"\n",
    ")"
   ]
  },
  {
   "cell_type": "code",
   "execution_count": null,
   "id": "df4188dd-292d-4a79-9f10-eb9673e1ef35",
   "metadata": {},
   "outputs": [],
   "source": [
    "print (llm.invoke(\"Hello, world!\"))"
   ]
  },
  {
   "cell_type": "code",
   "execution_count": null,
   "id": "c98a8b26-e6e8-4ccd-8e01-3d5964470a95",
   "metadata": {},
   "outputs": [],
   "source": [
    "import subprocess\n",
    "import time\n",
    "\n",
    "# Start the server as a background process\n",
    "server_process = subprocess.Popen(\n",
    "    [\"python\", \"birdnet_mcp_server.py\"],\n",
    ")\n",
    "\n",
    "# Wait a moment for the server to start up\n",
    "time.sleep(5) \n",
    "print(\"MCP Server started in background on port 8000.\")"
   ]
  },
  {
   "cell_type": "code",
   "execution_count": null,
   "id": "f9414973-17df-4294-9321-acfcffc1d19e",
   "metadata": {},
   "outputs": [],
   "source": [
    "from mcp_use import MCPAgent\n",
    "from mcp_use import MCPClient\n",
    "\n",
    "async def run_the_agent():\n",
    "\n",
    "    client = MCPClient.from_dict({\n",
    "        \"mcpServers\": {\n",
    "            \"birdnet_server\": {\n",
    "                \"url\": \"http://127.0.0.1:8000/mcp\"\n",
    "                # \"command\": \"python\", \n",
    "                # \"args\": [\"./birdnet_mcp_server.py\"],\n",
    "                # \"transport\": \"stdio\" \n",
    "            }\n",
    "        }\n",
    "    })\n",
    "    \n",
    "    # Pass the globally defined 'llm' object\n",
    "    agent = MCPAgent(llm=llm, client=client, max_steps=5) \n",
    "    \n",
    "    # # --- Execution ---\n",
    "    user_prompt = \"What bird species can be heard in './data/XC589950-gambels-quail.mp3'?\"\n",
    "    print(f\"User Prompt: {user_prompt}\\n\")\n",
    "    print(\"--- Agent Execution ---\")\n",
    "    \n",
    "    # Run the agent and get the final result\n",
    "    result = await agent.run(user_prompt)\n",
    "    \n",
    "    print(\"\\n--- Final Answer ---\")\n",
    "    print(result)\n",
    "\n",
    "# Execute the asynchronous function using 'await' in Jupyter/IPython\n",
    "await run_the_agent()"
   ]
  }
 ],
 "metadata": {
  "kernelspec": {
   "display_name": "Python 3 (ipykernel)",
   "language": "python",
   "name": "python3"
  },
  "language_info": {
   "codemirror_mode": {
    "name": "ipython",
    "version": 3
   },
   "file_extension": ".py",
   "mimetype": "text/x-python",
   "name": "python",
   "nbconvert_exporter": "python",
   "pygments_lexer": "ipython3",
   "version": "3.11.6"
  }
 },
 "nbformat": 4,
 "nbformat_minor": 5
}
