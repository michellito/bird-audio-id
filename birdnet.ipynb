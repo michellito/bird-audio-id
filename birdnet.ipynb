{
 "cells": [
  {
   "cell_type": "markdown",
   "id": "84e45b94-c20c-4515-9388-45a10b8ef9cb",
   "metadata": {
    "editable": true,
    "slideshow": {
     "slide_type": ""
    },
    "tags": []
   },
   "source": [
    "## Bird Species Indentification using BirdNET\n",
    "\n",
    "### Overview\n",
    "This notebook uses the BirdNET deep learning model for bird species identification from audio recordings. BirdNET was developed by Cornell University's Lab of Ornithology and can identify over 6,000 bird species worldwide from their vocalizations.\n",
    "\n",
    "### Birdnet python package\n",
    "This notebook uses the `birdnet` Python package, which provides programmatic access to the BirdNET model. Some of the functions we can use:\n",
    "\n",
    "+ `predict_species_within_audio_file()` - Analyze single audio files\n",
    "+ `predict_species_within_audio_files_mp()` - Batch process multiple files with multiprocessing\n",
    "+ `location_based_prediction()` - Get species predictions based on geographic location and time\n",
    "\n",
    "### Requirements\n",
    "\n",
    "+ The `birdnet` python package is only available up to Python 3.11.\n",
    "+ To run on CyVerse: Must run in `Jupyter_Lab_PyTorch_CPU` VICE app due to the Python 3.11 requirement. Tested with 8 CPU Cores, 64GB min memory, 128 min disk space.  It might not need this much but was crashing the kernal at some lower amounts\n"
   ]
  },
  {
   "cell_type": "markdown",
   "id": "0d60f42b-edc8-4fbf-808c-39d7b48f6b04",
   "metadata": {},
   "source": [
    "#### Install Birdnet"
   ]
  },
  {
   "cell_type": "code",
   "execution_count": null,
   "id": "cad1cb8e-ba00-4da5-ad59-4fd6e1e860ed",
   "metadata": {
    "editable": true,
    "slideshow": {
     "slide_type": ""
    },
    "tags": []
   },
   "outputs": [],
   "source": [
    "!pip install -q birdnet --user "
   ]
  },
  {
   "cell_type": "markdown",
   "id": "c16a80e1-8444-43b9-b9f7-3a6c9d6a27f5",
   "metadata": {},
   "source": [
    "#### Define function for converting multi-channel audio files to mono"
   ]
  },
  {
   "cell_type": "code",
   "execution_count": null,
   "id": "02cf0ab8-7fe6-4d6d-bcbb-01d13f18bf38",
   "metadata": {},
   "outputs": [],
   "source": [
    "import librosa\n",
    "import soundfile as sf\n",
    "from pathlib import Path\n",
    "\n",
    "def batch_convert_to_mono(file_list):\n",
    "    mono_files = []\n",
    "    \n",
    "    for file_path in file_list:\n",
    "        file_path = Path(file_path)\n",
    "        \n",
    "        # Load and convert to mono\n",
    "        audio, sr = librosa.load(file_path, mono=True)\n",
    "        \n",
    "        # Create output filename\n",
    "        mono_file = file_path.parent / f\"{file_path.stem}_mono{file_path.suffix}\"\n",
    "        \n",
    "        # Save mono version\n",
    "        sf.write(mono_file, audio, sr)\n",
    "        mono_files.append(mono_file)\n",
    "        print(f\"Converted {file_path} -> {mono_file}\")\n",
    "    \n",
    "    return mono_files"
   ]
  },
  {
   "cell_type": "markdown",
   "id": "60cb3ded-24b4-43cc-8727-ac7f5c90bc36",
   "metadata": {},
   "source": [
    "#### Convert your audio files to mono"
   ]
  },
  {
   "cell_type": "code",
   "execution_count": null,
   "id": "94d1b40f-4944-49b1-bf70-1afdfaf3d575",
   "metadata": {},
   "outputs": [],
   "source": [
    "files = [\"./data/XC75502-annas-hummingbird.mp3\"]\n",
    "mono_files = batch_convert_to_mono(files)"
   ]
  },
  {
   "cell_type": "markdown",
   "id": "b8364a40-9c6d-41ca-9f56-1078df755ad1",
   "metadata": {},
   "source": [
    "#### Use BirdNET to make species predictions"
   ]
  },
  {
   "cell_type": "code",
   "execution_count": null,
   "id": "b3eeb530-05a7-410b-9ab5-a79877368649",
   "metadata": {},
   "outputs": [],
   "source": [
    "import birdnet\n",
    "\n",
    "# This will fail if run immediately after the conversion to mono (probably still writing to data store)\n",
    "predictions = birdnet.predict_species_within_audio_files_mp(\n",
    "  mono_files\n",
    ")\n",
    "\n",
    "for result in predictions:\n",
    "    print(result)"
   ]
  }
 ],
 "metadata": {
  "kernelspec": {
   "display_name": "Python 3 (ipykernel)",
   "language": "python",
   "name": "python3"
  },
  "language_info": {
   "codemirror_mode": {
    "name": "ipython",
    "version": 3
   },
   "file_extension": ".py",
   "mimetype": "text/x-python",
   "name": "python",
   "nbconvert_exporter": "python",
   "pygments_lexer": "ipython3",
   "version": "3.11.6"
  }
 },
 "nbformat": 4,
 "nbformat_minor": 5
}
