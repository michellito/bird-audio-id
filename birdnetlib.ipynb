{
 "cells": [
  {
   "cell_type": "markdown",
   "id": "49bc4da2-e995-4610-8183-25418ce96b09",
   "metadata": {
    "editable": true,
    "slideshow": {
     "slide_type": ""
    },
    "tags": []
   },
   "source": [
    "## Bird Species Indentification using `birdnetlib` package\n",
    "\n",
    "### Overview\n",
    "This notebook uses the `birdnetlib` python package for bird species identifcation from audio recordings. `birdnetlib` provides programmitic access to the BirdNET deep neural network. BirdNET was developed by Cornell University's Lab of Ornithology and can identify over 6,000 bird species worldwide from their vocalizations.\n",
    "\n",
    "Presumably this written because the BirdNET team did not offer their own python package (`birdnet`) until 2024.\n",
    "\n",
    "### Requirements\n",
    "\n",
    "+ Unlike `birdnet`, `birdnetlib` can be used with Python 3.12.\n",
    "+ To run on CyVerse: Tested in using `Jupyter_Lab_PyTorch_CPU` VICE app with 8 CPU Cores, 64GB min memory, 128 min disk space.  It might not need this much but was crashing the kernal at some lower amounts."
   ]
  },
  {
   "cell_type": "code",
   "execution_count": 9,
   "id": "cad1cb8e-ba00-4da5-ad59-4fd6e1e860ed",
   "metadata": {},
   "outputs": [],
   "source": [
    "!pip install -q birdnetlib librosa tflite-runtime tensorflow"
   ]
  },
  {
   "cell_type": "code",
   "execution_count": 10,
   "id": "94d1b40f-4944-49b1-bf70-1afdfaf3d575",
   "metadata": {},
   "outputs": [
    {
     "name": "stdout",
     "output_type": "stream",
     "text": [
      "Labels loaded.\n",
      "load model True\n",
      "Model loaded.\n",
      "Labels loaded.\n",
      "load_species_list_model\n",
      "Meta model loaded.\n",
      "read_audio_data\n",
      "read_audio_data: complete, read  18 chunks.\n",
      "analyze_recording XC71034-annas-hummingbird.mp3\n",
      "recording has lon/lat\n",
      "set_predicted_species_list_from_position\n",
      "return_predicted_species_list\n",
      "18\n",
      "213 species loaded.\n",
      "[{'common_name': \"Anna's Hummingbird\", 'scientific_name': 'Calypte anna', 'start_time': 0.0, 'end_time': 3.0, 'confidence': 0.7442558407783508, 'label': \"Calypte anna_Anna's Hummingbird\"}, {'common_name': \"Anna's Hummingbird\", 'scientific_name': 'Calypte anna', 'start_time': 3.0, 'end_time': 6.0, 'confidence': 0.9810075163841248, 'label': \"Calypte anna_Anna's Hummingbird\"}, {'common_name': \"Anna's Hummingbird\", 'scientific_name': 'Calypte anna', 'start_time': 6.0, 'end_time': 9.0, 'confidence': 0.972385823726654, 'label': \"Calypte anna_Anna's Hummingbird\"}, {'common_name': \"Anna's Hummingbird\", 'scientific_name': 'Calypte anna', 'start_time': 9.0, 'end_time': 12.0, 'confidence': 0.9716429114341736, 'label': \"Calypte anna_Anna's Hummingbird\"}, {'common_name': \"Anna's Hummingbird\", 'scientific_name': 'Calypte anna', 'start_time': 12.0, 'end_time': 15.0, 'confidence': 0.9276949167251587, 'label': \"Calypte anna_Anna's Hummingbird\"}, {'common_name': \"Anna's Hummingbird\", 'scientific_name': 'Calypte anna', 'start_time': 15.0, 'end_time': 18.0, 'confidence': 0.9651350378990173, 'label': \"Calypte anna_Anna's Hummingbird\"}, {'common_name': \"Anna's Hummingbird\", 'scientific_name': 'Calypte anna', 'start_time': 18.0, 'end_time': 21.0, 'confidence': 0.8498663902282715, 'label': \"Calypte anna_Anna's Hummingbird\"}, {'common_name': \"Anna's Hummingbird\", 'scientific_name': 'Calypte anna', 'start_time': 21.0, 'end_time': 24.0, 'confidence': 0.9521673917770386, 'label': \"Calypte anna_Anna's Hummingbird\"}, {'common_name': \"Anna's Hummingbird\", 'scientific_name': 'Calypte anna', 'start_time': 24.0, 'end_time': 27.0, 'confidence': 0.755398690700531, 'label': \"Calypte anna_Anna's Hummingbird\"}, {'common_name': \"Anna's Hummingbird\", 'scientific_name': 'Calypte anna', 'start_time': 27.0, 'end_time': 30.0, 'confidence': 0.5305377840995789, 'label': \"Calypte anna_Anna's Hummingbird\"}, {'common_name': \"Anna's Hummingbird\", 'scientific_name': 'Calypte anna', 'start_time': 30.0, 'end_time': 33.0, 'confidence': 0.98689204454422, 'label': \"Calypte anna_Anna's Hummingbird\"}, {'common_name': \"Anna's Hummingbird\", 'scientific_name': 'Calypte anna', 'start_time': 33.0, 'end_time': 36.0, 'confidence': 0.8102167248725891, 'label': \"Calypte anna_Anna's Hummingbird\"}, {'common_name': \"Anna's Hummingbird\", 'scientific_name': 'Calypte anna', 'start_time': 36.0, 'end_time': 39.0, 'confidence': 0.7745939493179321, 'label': \"Calypte anna_Anna's Hummingbird\"}, {'common_name': \"Anna's Hummingbird\", 'scientific_name': 'Calypte anna', 'start_time': 39.0, 'end_time': 42.0, 'confidence': 0.9243808388710022, 'label': \"Calypte anna_Anna's Hummingbird\"}, {'common_name': \"Anna's Hummingbird\", 'scientific_name': 'Calypte anna', 'start_time': 42.0, 'end_time': 45.0, 'confidence': 0.8947725296020508, 'label': \"Calypte anna_Anna's Hummingbird\"}, {'common_name': \"Anna's Hummingbird\", 'scientific_name': 'Calypte anna', 'start_time': 45.0, 'end_time': 48.0, 'confidence': 0.9460095167160034, 'label': \"Calypte anna_Anna's Hummingbird\"}, {'common_name': \"Anna's Hummingbird\", 'scientific_name': 'Calypte anna', 'start_time': 48.0, 'end_time': 51.0, 'confidence': 0.7212619781494141, 'label': \"Calypte anna_Anna's Hummingbird\"}, {'common_name': \"Anna's Hummingbird\", 'scientific_name': 'Calypte anna', 'start_time': 51.0, 'end_time': 54.0, 'confidence': 0.7780715227127075, 'label': \"Calypte anna_Anna's Hummingbird\"}]\n"
     ]
    }
   ],
   "source": [
    "from birdnetlib import Recording\n",
    "from birdnetlib.analyzer import Analyzer\n",
    "from datetime import datetime\n",
    "import tensorflow\n",
    "\n",
    "# Load and initialize the BirdNET-Analyzer models.\n",
    "analyzer = Analyzer()\n",
    "\n",
    "recording = Recording(\n",
    "    analyzer,\n",
    "    \"./data/XC71034-annas-hummingbird.mp3\",\n",
    "    lat=32.254,\n",
    "    lon=-110.9742,\n",
    "    date=datetime(year=202, month=5, day=10), # use date or week_48\n",
    "    min_conf=0.25,\n",
    ")\n",
    "recording.analyze()\n",
    "print(recording.detections)"
   ]
  },
  {
   "cell_type": "code",
   "execution_count": null,
   "id": "1e632c87-8b0b-4f86-b8bc-b78df438e61a",
   "metadata": {
    "editable": true,
    "slideshow": {
     "slide_type": ""
    },
    "tags": []
   },
   "outputs": [],
   "source": []
  }
 ],
 "metadata": {
  "kernelspec": {
   "display_name": "Python 3 (ipykernel)",
   "language": "python",
   "name": "python3"
  },
  "language_info": {
   "codemirror_mode": {
    "name": "ipython",
    "version": 3
   },
   "file_extension": ".py",
   "mimetype": "text/x-python",
   "name": "python",
   "nbconvert_exporter": "python",
   "pygments_lexer": "ipython3",
   "version": "3.11.6"
  }
 },
 "nbformat": 4,
 "nbformat_minor": 5
}
