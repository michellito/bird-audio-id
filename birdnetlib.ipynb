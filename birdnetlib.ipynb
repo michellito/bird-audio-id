{
 "cells": [
  {
   "cell_type": "markdown",
   "id": "49bc4da2-e995-4610-8183-25418ce96b09",
   "metadata": {
    "editable": true,
    "slideshow": {
     "slide_type": ""
    },
    "tags": []
   },
   "source": [
    "## Bird Species Indentification using `birdnetlib` package\n",
    "\n",
    "### Overview\n",
    "This notebook uses the `birdnetlib` python package for bird species identifcation from audio recordings. `birdnetlib` provides programmitic access to the BirdNET deep neural network. BirdNET was developed by Cornell University's Lab of Ornithology and can identify over 6,000 bird species worldwide from their vocalizations.\n",
    "\n",
    "Presumably this written because the BirdNET team did not offer their own python package (`birdnet`) until 2024.\n",
    "\n",
    "### Requirements\n",
    "\n",
    "+ Unlike `birdnet`, `birdnetlib` can be used with Python 3.12.\n",
    "+ To run on CyVerse: Tested in using `Jupyter_Lab_PyTorch_CPU` VICE app with 8 CPU Cores, 64GB min memory, 128 min disk space.  It might not need this much but was crashing the kernal at some lower amounts."
   ]
  },
  {
   "cell_type": "code",
   "execution_count": null,
   "id": "cad1cb8e-ba00-4da5-ad59-4fd6e1e860ed",
   "metadata": {},
   "outputs": [],
   "source": [
    "!pip install -q birdnetlib librosa tflite-runtime tensorflow"
   ]
  },
  {
   "cell_type": "code",
   "execution_count": null,
   "id": "94d1b40f-4944-49b1-bf70-1afdfaf3d575",
   "metadata": {},
   "outputs": [],
   "source": [
    "from birdnetlib import Recording\n",
    "from birdnetlib.analyzer import Analyzer\n",
    "from datetime import datetime\n",
    "import tensorflow\n",
    "\n",
    "# Load and initialize the BirdNET-Analyzer models.\n",
    "analyzer = Analyzer()\n",
    "\n",
    "recording = Recording(\n",
    "    analyzer,\n",
    "    \"./data/XC71034-annas-hummingbird.mp3\",\n",
    "    lat=32.254,\n",
    "    lon=-110.9742,\n",
    "    date=datetime(year=202, month=5, day=10), # use date or week_48\n",
    "    min_conf=0.25,\n",
    ")\n",
    "recording.analyze()\n",
    "print(recording.detections)"
   ]
  }
 ],
 "metadata": {
  "kernelspec": {
   "display_name": "Python 3 (ipykernel)",
   "language": "python",
   "name": "python3"
  },
  "language_info": {
   "codemirror_mode": {
    "name": "ipython",
    "version": 3
   },
   "file_extension": ".py",
   "mimetype": "text/x-python",
   "name": "python",
   "nbconvert_exporter": "python",
   "pygments_lexer": "ipython3",
   "version": "3.13.7"
  }
 },
 "nbformat": 4,
 "nbformat_minor": 5
}
